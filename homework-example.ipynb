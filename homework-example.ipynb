{
 "cells": [1],
 "metadata": {1},
 "nbformat": 4,
 "nbformat_minor": 2
}
